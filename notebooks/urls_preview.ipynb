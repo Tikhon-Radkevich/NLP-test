{
 "cells": [
  {
   "metadata": {
    "ExecuteTime": {
     "end_time": "2024-09-29T10:35:06.127747Z",
     "start_time": "2024-09-29T10:35:06.115016Z"
    }
   },
   "cell_type": "code",
   "source": [
    "%load_ext autoreload\n",
    "%autoreload 2"
   ],
   "id": "ba14eca90131a433",
   "outputs": [],
   "execution_count": 1
  },
  {
   "metadata": {
    "ExecuteTime": {
     "end_time": "2024-09-29T10:35:06.661393Z",
     "start_time": "2024-09-29T10:35:06.154348Z"
    }
   },
   "cell_type": "code",
   "source": [
    "import pandas as pd\n",
    "\n",
    "from utils.utils import get_product_name_from_url, load_ner_data_file\n",
    "from config import URL_LIST_FILE_PATH, URL_LIST_WITH_STATUS_FILE_PATH"
   ],
   "id": "initial_id",
   "outputs": [],
   "execution_count": 2
  },
  {
   "metadata": {},
   "cell_type": "markdown",
   "source": "## Original URLS",
   "id": "b55758fa18b054f8"
  },
  {
   "metadata": {
    "ExecuteTime": {
     "end_time": "2024-09-29T10:35:06.675592Z",
     "start_time": "2024-09-29T10:35:06.662428Z"
    }
   },
   "cell_type": "code",
   "source": [
    "urls_df = pd.read_csv(URL_LIST_FILE_PATH)\n",
    "urls_df.shape"
   ],
   "id": "eb9c3b3a1332567",
   "outputs": [
    {
     "data": {
      "text/plain": [
       "(704, 1)"
      ]
     },
     "execution_count": 3,
     "metadata": {},
     "output_type": "execute_result"
    }
   ],
   "execution_count": 3
  },
  {
   "metadata": {},
   "cell_type": "markdown",
   "source": "## URL Functionality Check",
   "id": "3204eedeaffb2184"
  },
  {
   "metadata": {
    "ExecuteTime": {
     "end_time": "2024-09-29T10:35:06.687004Z",
     "start_time": "2024-09-29T10:35:06.676386Z"
    }
   },
   "cell_type": "code",
   "source": "urls_df = pd.read_csv(URL_LIST_WITH_STATUS_FILE_PATH)",
   "id": "9ef9b35a359cb68a",
   "outputs": [],
   "execution_count": 4
  },
  {
   "metadata": {
    "ExecuteTime": {
     "end_time": "2024-09-29T10:35:06.698721Z",
     "start_time": "2024-09-29T10:35:06.688413Z"
    }
   },
   "cell_type": "code",
   "source": [
    "good_urls_df = urls_df[urls_df[\"status_code\"] == \"200\"].copy()\n",
    "n_status_200_urls = good_urls_df.shape[0]\n",
    "\n",
    "print(f\"Number of urls with status code 200: {n_status_200_urls}\")"
   ],
   "id": "5afd67795c49ba9",
   "outputs": [
    {
     "name": "stdout",
     "output_type": "stream",
     "text": [
      "Number of urls with status code 200: 280\n"
     ]
    }
   ],
   "execution_count": 5
  },
  {
   "metadata": {},
   "cell_type": "markdown",
   "source": "## Extracting Product Name From URL",
   "id": "b75a714fa6270549"
  },
  {
   "metadata": {
    "ExecuteTime": {
     "end_time": "2024-09-29T10:35:06.709646Z",
     "start_time": "2024-09-29T10:35:06.699598Z"
    }
   },
   "cell_type": "code",
   "source": "good_urls_df[\"product\"] = good_urls_df[\"url\"].apply(get_product_name_from_url)",
   "id": "9e1fc55b52090f92",
   "outputs": [],
   "execution_count": 6
  },
  {
   "metadata": {
    "ExecuteTime": {
     "end_time": "2024-09-29T10:35:06.730182Z",
     "start_time": "2024-09-29T10:35:06.710675Z"
    }
   },
   "cell_type": "code",
   "source": [
    "good_urls_df = good_urls_df.dropna()\n",
    "good_urls_df.head()"
   ],
   "id": "871d75ac48c0868c",
   "outputs": [
    {
     "data": {
      "text/plain": [
       "                                                 url status_code  \\\n",
       "0  https://www.factorybuys.com.au/products/euro-t...         200   \n",
       "1    https://dunlin.com.au/products/beadlight-cirrus         200   \n",
       "2  https://themodern.net.au/products/hamar-plant-...         200   \n",
       "3  https://furniturefetish.com.au/products/oslo-o...         200   \n",
       "6  https://interiorsonline.com.au/products/interi...         200   \n",
       "\n",
       "                      product  \n",
       "0      euro top mattress king  \n",
       "1            beadlight cirrus  \n",
       "2       hamar plant stand ash  \n",
       "3     oslo office chair white  \n",
       "6  interiors online gift card  "
      ],
      "text/html": [
       "<div>\n",
       "<style scoped>\n",
       "    .dataframe tbody tr th:only-of-type {\n",
       "        vertical-align: middle;\n",
       "    }\n",
       "\n",
       "    .dataframe tbody tr th {\n",
       "        vertical-align: top;\n",
       "    }\n",
       "\n",
       "    .dataframe thead th {\n",
       "        text-align: right;\n",
       "    }\n",
       "</style>\n",
       "<table border=\"1\" class=\"dataframe\">\n",
       "  <thead>\n",
       "    <tr style=\"text-align: right;\">\n",
       "      <th></th>\n",
       "      <th>url</th>\n",
       "      <th>status_code</th>\n",
       "      <th>product</th>\n",
       "    </tr>\n",
       "  </thead>\n",
       "  <tbody>\n",
       "    <tr>\n",
       "      <th>0</th>\n",
       "      <td>https://www.factorybuys.com.au/products/euro-t...</td>\n",
       "      <td>200</td>\n",
       "      <td>euro top mattress king</td>\n",
       "    </tr>\n",
       "    <tr>\n",
       "      <th>1</th>\n",
       "      <td>https://dunlin.com.au/products/beadlight-cirrus</td>\n",
       "      <td>200</td>\n",
       "      <td>beadlight cirrus</td>\n",
       "    </tr>\n",
       "    <tr>\n",
       "      <th>2</th>\n",
       "      <td>https://themodern.net.au/products/hamar-plant-...</td>\n",
       "      <td>200</td>\n",
       "      <td>hamar plant stand ash</td>\n",
       "    </tr>\n",
       "    <tr>\n",
       "      <th>3</th>\n",
       "      <td>https://furniturefetish.com.au/products/oslo-o...</td>\n",
       "      <td>200</td>\n",
       "      <td>oslo office chair white</td>\n",
       "    </tr>\n",
       "    <tr>\n",
       "      <th>6</th>\n",
       "      <td>https://interiorsonline.com.au/products/interi...</td>\n",
       "      <td>200</td>\n",
       "      <td>interiors online gift card</td>\n",
       "    </tr>\n",
       "  </tbody>\n",
       "</table>\n",
       "</div>"
      ]
     },
     "execution_count": 7,
     "metadata": {},
     "output_type": "execute_result"
    }
   ],
   "execution_count": 7
  },
  {
   "metadata": {
    "ExecuteTime": {
     "end_time": "2024-09-29T10:35:06.745746Z",
     "start_time": "2024-09-29T10:35:06.731469Z"
    }
   },
   "cell_type": "code",
   "source": [
    "n_product_names_in_urls = good_urls_df.shape[0]\n",
    "\n",
    "print(f\"{n_product_names_in_urls} extracted products from {n_status_200_urls} urls;\")\n",
    "print(f\"Or {n_product_names_in_urls / n_status_200_urls:.2%} of all urls with status code 200\")"
   ],
   "id": "a5f47c2788370d49",
   "outputs": [
    {
     "name": "stdout",
     "output_type": "stream",
     "text": [
      "173 extracted products from 280 urls;\n",
      "Or 61.79% of all urls with status code 200\n"
     ]
    }
   ],
   "execution_count": 8
  },
  {
   "metadata": {},
   "cell_type": "markdown",
   "source": [
    "## Determining Element Classes\n",
    "By the product name, HTML elements that contain product information can be found."
   ],
   "id": "d770beb898b3e95c"
  },
  {
   "metadata": {
    "ExecuteTime": {
     "end_time": "2024-09-29T10:35:06.771958Z",
     "start_time": "2024-09-29T10:35:06.747006Z"
    }
   },
   "cell_type": "code",
   "source": "dataset_dict = load_ner_data_file()",
   "id": "71a19238bef13322",
   "outputs": [],
   "execution_count": 9
  },
  {
   "metadata": {
    "ExecuteTime": {
     "end_time": "2024-09-29T10:35:06.786755Z",
     "start_time": "2024-09-29T10:35:06.773093Z"
    }
   },
   "cell_type": "code",
   "source": [
    "all_product_classes = set()\n",
    "\n",
    "for values in dataset_dict.values():\n",
    "    for product_class in values[\"product_classes\"]:\n",
    "        all_product_classes.add(product_class)"
   ],
   "id": "b9e4ff9b3da2f306",
   "outputs": [],
   "execution_count": 10
  },
  {
   "metadata": {
    "ExecuteTime": {
     "end_time": "2024-09-29T10:35:06.798652Z",
     "start_time": "2024-09-29T10:35:06.788705Z"
    }
   },
   "cell_type": "code",
   "source": "print(f\"Number of unique product classes: {len(all_product_classes)}\")",
   "id": "54f961165308afb6",
   "outputs": [
    {
     "name": "stdout",
     "output_type": "stream",
     "text": [
      "Number of unique product classes: 170\n"
     ]
    }
   ],
   "execution_count": 11
  },
  {
   "metadata": {
    "ExecuteTime": {
     "end_time": "2024-09-29T10:35:06.810491Z",
     "start_time": "2024-09-29T10:35:06.799857Z"
    }
   },
   "cell_type": "code",
   "source": [
    "product_classes = dataset_dict[\"https://dunlin.com.au/products/beadlight-cirrus\"][\"product_classes\"]\n",
    "product_names = dataset_dict[\"https://dunlin.com.au/products/beadlight-cirrus\"][\"product_names\"]"
   ],
   "id": "9695e309a067de2",
   "outputs": [],
   "execution_count": 12
  },
  {
   "metadata": {
    "ExecuteTime": {
     "end_time": "2024-09-29T10:35:06.822639Z",
     "start_time": "2024-09-29T10:35:06.811676Z"
    }
   },
   "cell_type": "code",
   "source": [
    "print(f\"Product classes: {product_classes}\")\n",
    "print(f\"Product names: {product_names}\")"
   ],
   "id": "2b5b0898c792f5fb",
   "outputs": [
    {
     "name": "stdout",
     "output_type": "stream",
     "text": [
      "Product classes: ['product__title', 'product__title__wrapper']\n",
      "Product names: ['beadlight cirrus led reading light']\n"
     ]
    }
   ],
   "execution_count": 13
  },
  {
   "metadata": {
    "ExecuteTime": {
     "end_time": "2024-09-29T10:35:06.826200Z",
     "start_time": "2024-09-29T10:35:06.824074Z"
    }
   },
   "cell_type": "code",
   "source": "",
   "id": "28cbab1a99940df3",
   "outputs": [],
   "execution_count": 13
  }
 ],
 "metadata": {
  "kernelspec": {
   "display_name": "Python 3",
   "language": "python",
   "name": "python3"
  },
  "language_info": {
   "codemirror_mode": {
    "name": "ipython",
    "version": 2
   },
   "file_extension": ".py",
   "mimetype": "text/x-python",
   "name": "python",
   "nbconvert_exporter": "python",
   "pygments_lexer": "ipython2",
   "version": "2.7.6"
  }
 },
 "nbformat": 4,
 "nbformat_minor": 5
}
